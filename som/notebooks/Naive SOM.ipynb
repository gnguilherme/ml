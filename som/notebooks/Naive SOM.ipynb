{
 "cells": [
  {
   "cell_type": "code",
   "execution_count": 1,
   "id": "012c384a",
   "metadata": {
    "ExecuteTime": {
     "end_time": "2021-09-03T14:55:25.286581Z",
     "start_time": "2021-09-03T14:55:20.766167Z"
    }
   },
   "outputs": [],
   "source": [
    "import numpy as np\n",
    "import pandas as pd\n",
    "import matplotlib.pyplot as plt"
   ]
  },
  {
   "cell_type": "code",
   "execution_count": 3,
   "id": "6bdcddca",
   "metadata": {
    "ExecuteTime": {
     "end_time": "2021-09-03T14:55:48.686203Z",
     "start_time": "2021-09-03T14:55:48.628715Z"
    }
   },
   "outputs": [],
   "source": [
    "dataset = pd.read_csv('../Credit_Card_Applications.csv')\n",
    "X = dataset.iloc[:, :-1].values \n",
    "y = dataset.iloc[:, -1].values"
   ]
  },
  {
   "cell_type": "code",
   "execution_count": 4,
   "id": "670a53aa",
   "metadata": {
    "ExecuteTime": {
     "end_time": "2021-09-03T14:55:55.856342Z",
     "start_time": "2021-09-03T14:55:50.615915Z"
    }
   },
   "outputs": [],
   "source": [
    "from sklearn.preprocessing import MinMaxScaler\n",
    "sc = MinMaxScaler(feature_range = (0,1))\n",
    "X = sc.fit_transform(X)"
   ]
  },
  {
   "cell_type": "code",
   "execution_count": 5,
   "id": "6a696971",
   "metadata": {
    "ExecuteTime": {
     "end_time": "2021-09-03T14:55:58.036213Z",
     "start_time": "2021-09-03T14:55:57.986107Z"
    }
   },
   "outputs": [],
   "source": [
    "from minisom import MiniSom\n",
    "som = MiniSom(x=10, y=10, input_len= 15, sigma= 1.0, learning_rate = 0.5)\n",
    "som.random_weights_init(X)\n",
    "som.train_random(data = X, num_iteration = 100)"
   ]
  },
  {
   "cell_type": "code",
   "execution_count": 6,
   "id": "7a25f80d",
   "metadata": {
    "ExecuteTime": {
     "end_time": "2021-09-03T14:56:08.825525Z",
     "start_time": "2021-09-03T14:56:06.865766Z"
    }
   },
   "outputs": [
    {
     "data": {
      "image/png": "[encoded data removed]",
      "text/plain": [
       "<Figure size 432x288 with 2 Axes>"
      ]
     },
     "metadata": {
      "needs_background": "light"
     },
     "output_type": "display_data"
    }
   ],
   "source": [
    "from pylab import bone, pcolor, colorbar, plot, show\n",
    "bone()\n",
    "pcolor(som.distance_map().T)\n",
    "colorbar()\n",
    "markers = ['o', 's']\n",
    "colors = ['r', 'g']\n",
    "for i, x in enumerate(X):\n",
    "    w = som.winner(x)\n",
    "    plot(w[0] + 0.5,\n",
    "         w[1] + 0.5,\n",
    "         markers[y[i]],\n",
    "         markeredgecolor = colors[y[i]],\n",
    "         markerfacecolor = 'None',\n",
    "         markersize = 10,\n",
    "         markeredgewidth = 2)\n",
    "show()"
   ]
  },
  {
   "cell_type": "code",
   "execution_count": 14,
   "id": "f6beb3c0",
   "metadata": {
    "ExecuteTime": {
     "end_time": "2021-09-03T14:57:54.025506Z",
     "start_time": "2021-09-03T14:57:53.975609Z"
    }
   },
   "outputs": [],
   "source": [
    "mappings = som.win_map(X)\n",
    "frauds = np.concatenate((mappings[(1,3)], mappings[(5,1)]), axis = 0)\n",
    "frauds = sc.inverse_transform(frauds)"
   ]
  },
  {
   "cell_type": "code",
   "execution_count": 15,
   "id": "cbf62edc",
   "metadata": {
    "ExecuteTime": {
     "end_time": "2021-09-03T14:58:03.055345Z",
     "start_time": "2021-09-03T14:58:03.035932Z"
    }
   },
   "outputs": [
    {
     "name": "stdout",
     "output_type": "stream",
     "text": [
      "Fraud Customer IDs\n",
      "15654625\n",
      "15641733\n",
      "15802869\n",
      "15750545\n",
      "15665014\n",
      "15663942\n",
      "15720529\n",
      "15728906\n",
      "15692430\n",
      "15636626\n",
      "15729377\n",
      "15643574\n"
     ]
    }
   ],
   "source": [
    "print('Fraud Customer IDs')\n",
    "for i in frauds[:, 0]:\n",
    "    print(int(i))"
   ]
  },
  {
   "cell_type": "code",
   "execution_count": 16,
   "id": "9ac15643",
   "metadata": {
    "ExecuteTime": {
     "end_time": "2021-09-03T14:59:09.081283Z",
     "start_time": "2021-09-03T14:58:49.375311Z"
    }
   },
   "outputs": [
    {
     "name": "stdout",
     "output_type": "stream",
     "text": [
      "Epoch 1/10\n",
      "690/690 [==============================] - 2s 1ms/step - loss: 0.5101 - accuracy: 0.7812\n",
      "Epoch 2/10\n",
      "690/690 [==============================] - 1s 1ms/step - loss: 0.2441 - accuracy: 0.9594\n",
      "Epoch 3/10\n",
      "690/690 [==============================] - 1s 1ms/step - loss: 0.1595 - accuracy: 0.9826\n",
      "Epoch 4/10\n",
      "690/690 [==============================] - 1s 1ms/step - loss: 0.1194 - accuracy: 0.9826\n",
      "Epoch 5/10\n",
      "690/690 [==============================] - 1s 1ms/step - loss: 0.0957 - accuracy: 0.9826\n",
      "Epoch 6/10\n",
      "690/690 [==============================] - 1s 1ms/step - loss: 0.0798 - accuracy: 0.9826\n",
      "Epoch 7/10\n",
      "690/690 [==============================] - 1s 1ms/step - loss: 0.0699 - accuracy: 0.9826\n",
      "Epoch 8/10\n",
      "690/690 [==============================] - 1s 1ms/step - loss: 0.0653 - accuracy: 0.9826\n",
      "Epoch 9/10\n",
      "690/690 [==============================] - 1s 1ms/step - loss: 0.0625 - accuracy: 0.9826\n",
      "Epoch 10/10\n",
      "690/690 [==============================] - 1s 1ms/step - loss: 0.0608 - accuracy: 0.9826\n"
     ]
    },
    {
     "data": {
      "text/plain": [
       "array([[1.57785890e+07, 1.59443907e-08],\n",
       "       [1.57574340e+07, 1.79178379e-08],\n",
       "       [1.56844400e+07, 1.88317131e-08],\n",
       "       ...,\n",
       "       [1.56688890e+07, 1.39435202e-01],\n",
       "       [1.58028690e+07, 1.39435202e-01],\n",
       "       [1.55924120e+07, 1.39435202e-01]])"
      ]
     },
     "execution_count": 16,
     "metadata": {},
     "output_type": "execute_result"
    }
   ],
   "source": [
    "customers = dataset.iloc[:, 1:].values\n",
    "\n",
    "is_fraud = np.zeros(len(dataset))\n",
    "for i in range(len(dataset)):\n",
    "    if dataset.iloc[i,0] in frauds:\n",
    "        is_fraud[i] = 1\n",
    "\n",
    "from sklearn.preprocessing import StandardScaler\n",
    "sc = StandardScaler()\n",
    "customers = sc.fit_transform(customers)\n",
    "\n",
    "import tensorflow as tf\n",
    "\n",
    "ann = tf.keras.models.Sequential()\n",
    "\n",
    "ann.add(tf.keras.layers.Dense(units=2, activation='relu'))\n",
    "\n",
    "ann.add(tf.keras.layers.Dense(units=1, activation='sigmoid'))\n",
    "\n",
    "ann.compile(optimizer = 'adam', loss = 'binary_crossentropy', metrics = ['accuracy'])\n",
    "\n",
    "ann.fit(customers, is_fraud, batch_size = 1, epochs = 10)\n",
    "\n",
    "y_pred = ann.predict(customers)\n",
    "y_pred = np.concatenate((dataset.iloc[:, 0:1].values, y_pred), axis = 1)\n",
    "y_pred = y_pred[y_pred[:, 1].argsort()]\n",
    "\n",
    "y_pred"
   ]
  },
  {
   "cell_type": "code",
   "execution_count": null,
   "id": "3b2f0261",
   "metadata": {},
   "outputs": [],
   "source": []
  }
 ],
 "metadata": {
  "kernelspec": {
   "display_name": "Python 3 (ipykernel)",
   "language": "python",
   "name": "python3"
  },
  "language_info": {
   "codemirror_mode": {
    "name": "ipython",
    "version": 3
   },
   "file_extension": ".py",
   "mimetype": "text/x-python",
   "name": "python",
   "nbconvert_exporter": "python",
   "pygments_lexer": "ipython3",
   "version": "3.7.9"
  }
 },
 "nbformat": 4,
 "nbformat_minor": 5
}
